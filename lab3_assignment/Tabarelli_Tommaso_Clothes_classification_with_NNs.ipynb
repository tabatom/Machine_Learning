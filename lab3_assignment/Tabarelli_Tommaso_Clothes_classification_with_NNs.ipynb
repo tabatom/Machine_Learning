{
 "cells": [
  {
   "cell_type": "markdown",
   "metadata": {},
   "source": [
    "# Neural Networks\n",
    "\n",
    "In this notebook we are going to explore the Neural Networks for image classification. We are going to use the same dataset of the SVM notebook: Fashion MNIST (https://pravarmahajan.github.io/fashion/), a dataset of small images of clothes and accessories.\n",
    "\n",
    "The dataset labels are the following:\n",
    "\n",
    "| Label | Description |\n",
    "| --- | --- |\n",
    "| 0 | T-shirt/top |\n",
    "| 1 | Trouser |\n",
    "| 2 | Pullover |\n",
    "| 3 | Dress |\n",
    "| 4 | Coat |\n",
    "| 5 | Sandal |\n",
    "| 6 | Shirt |\n",
    "| 7 | Sneaker |\n",
    "| 8 | Bag |\n",
    "| 9 | Ankle boot |"
   ]
  },
  {
   "cell_type": "code",
   "execution_count": 26,
   "metadata": {},
   "outputs": [],
   "source": [
    "#load the required packages\n",
    "\n",
    "%matplotlib inline\n",
    "\n",
    "import numpy as np\n",
    "import scipy as sp\n",
    "import matplotlib.pyplot as plt\n",
    "\n",
    "import sklearn\n",
    "from sklearn.neural_network import MLPClassifier\n",
    "from sklearn.model_selection import GridSearchCV\n",
    "from sklearn.svm import SVC\n",
    "\n",
    "from numba import jit          # to import parallel computing features and just in time compilated code"
   ]
  },
  {
   "cell_type": "code",
   "execution_count": 27,
   "metadata": {},
   "outputs": [],
   "source": [
    "# helper function to load Fashion MNIST dataset from disk\n",
    "def load_mnist(path, kind='train'):\n",
    "    import os\n",
    "    import gzip\n",
    "    import numpy as np\n",
    "    labels_path = os.path.join(path, '%s-labels-idx1-ubyte.gz' % kind)\n",
    "    images_path = os.path.join(path, '%s-images-idx3-ubyte.gz' % kind)\n",
    "    with gzip.open(labels_path, 'rb') as lbpath:\n",
    "        labels = np.frombuffer(lbpath.read(), dtype=np.uint8,offset=8)\n",
    "    with gzip.open(images_path, 'rb') as imgpath:\n",
    "        images = np.frombuffer(imgpath.read(), dtype=np.uint8,offset=16).reshape(len(labels), 784)\n",
    "    return images, labels"
   ]
  },
  {
   "cell_type": "markdown",
   "metadata": {},
   "source": [
    "# TODO \n",
    "Place your ID (\"numero di matricola\") that will be used as seed for random generator. You can try to change the seed to see the impact of the randomization."
   ]
  },
  {
   "cell_type": "code",
   "execution_count": 28,
   "metadata": {},
   "outputs": [],
   "source": [
    "ID = 1205459\n",
    "np.random.seed(ID)"
   ]
  },
  {
   "cell_type": "code",
   "execution_count": 29,
   "metadata": {},
   "outputs": [],
   "source": [
    "#load the MNIST dataset and let's normalize the features so that each value is in [0,1]\n",
    "X, y = load_mnist(\"data\")\n",
    "# rescale the data\n",
    "X = X / 255.0"
   ]
  },
  {
   "cell_type": "markdown",
   "metadata": {},
   "source": [
    "Now split into training and test. Make sure that each label is present at least 10 times\n",
    "in training frequencies."
   ]
  },
  {
   "cell_type": "code",
   "execution_count": 30,
   "metadata": {},
   "outputs": [
    {
     "name": "stdout",
     "output_type": "stream",
     "text": [
      "Labels in training dataset:  [0 1 2 3 4 5 6 7 8 9]\n",
      "Frequencies in training dataset:  [45 45 48 54 58 51 40 46 48 65]\n"
     ]
    }
   ],
   "source": [
    "#random permute the data and split into training and test taking the first 500\n",
    "#data samples as training and the rests as test\n",
    "permutation = np.random.permutation(X.shape[0])\n",
    "\n",
    "X = X[permutation]\n",
    "y = y[permutation]\n",
    "\n",
    "m_training = 500\n",
    "\n",
    "X_train, X_test = X[:m_training], X[m_training:]\n",
    "y_train, y_test = y[:m_training], y[m_training:]\n",
    "\n",
    "labels, freqs = np.unique(y_train, return_counts=True)\n",
    "print(\"Labels in training dataset: \", labels)\n",
    "print(\"Frequencies in training dataset: \", freqs)\n"
   ]
  },
  {
   "cell_type": "code",
   "execution_count": 31,
   "metadata": {},
   "outputs": [],
   "source": [
    "#function for plotting a image and printing the corresponding label\n",
    "def plot_input(X_matrix, labels, index):\n",
    "    print(\"INPUT:\")\n",
    "    plt.imshow(\n",
    "        X_matrix[index].reshape(28,28),\n",
    "        cmap          = plt.cm.gray_r,\n",
    "        interpolation = \"nearest\"\n",
    "    )\n",
    "    plt.show()\n",
    "    print(\"LABEL: %i\"%labels[index])\n",
    "    return"
   ]
  },
  {
   "cell_type": "code",
   "execution_count": 32,
   "metadata": {},
   "outputs": [
    {
     "name": "stdout",
     "output_type": "stream",
     "text": [
      "INPUT:\n"
     ]
    },
    {
     "data": {
      "image/png": "[encoded data removed]",
      "text/plain": [
       "<Figure size 432x288 with 1 Axes>"
      ]
     },
     "metadata": {
      "needs_background": "light"
     },
     "output_type": "display_data"
    },
    {
     "name": "stdout",
     "output_type": "stream",
     "text": [
      "LABEL: 5\n",
      "INPUT:\n"
     ]
    },
    {
     "data": {
      "image/png": "[encoded data removed]",
      "text/plain": [
       "<Figure size 432x288 with 1 Axes>"
      ]
     },
     "metadata": {
      "needs_background": "light"
     },
     "output_type": "display_data"
    },
    {
     "name": "stdout",
     "output_type": "stream",
     "text": [
      "LABEL: 3\n",
      "INPUT:\n"
     ]
    },
    {
     "data": {
      "image/png": "[encoded data removed]",
      "text/plain": [
       "<Figure size 432x288 with 1 Axes>"
      ]
     },
     "metadata": {
      "needs_background": "light"
     },
     "output_type": "display_data"
    },
    {
     "name": "stdout",
     "output_type": "stream",
     "text": [
      "LABEL: 4\n"
     ]
    }
   ],
   "source": [
    "#let's try the plotting function\n",
    "plot_input(X_train,y_train,10)\n",
    "plot_input(X_test,y_test,100)\n",
    "plot_input(X_test,y_test,10000)"
   ]
  },
  {
   "cell_type": "markdown",
   "metadata": {},
   "source": [
    "## TO DO 1\n",
    "\n",
    "Now use a Feed-forward Neural Network for prediction. Use the multi-layer perceptron classifier, with the following parameters: max_iter=300, alpha=1e-4, solver='sgd', tol=1e-4, learning_rate_init=.1, random_state=ID (this last parameter ensures the run is the same even if you run it more than once). The alpha parameter is the regularization term.\n",
    "\n",
    "Then, using the default activation function, pick four or five architectures to consider, with different numbers of hidden layers and different sizes. It is not necessary to create huge neural networks, you can limit to 3 layers and, for each layer, its maximum size can be of 100. Evaluate the architectures you chose using the GridSearchCV with cv=5.\n"
   ]
  },
  {
   "cell_type": "code",
   "execution_count": 43,
   "metadata": {},
   "outputs": [
    {
     "name": "stderr",
     "output_type": "stream",
     "text": [
      "/home/tommaso/anaconda3/lib/python3.7/site-packages/sklearn/model_selection/_search.py:841: DeprecationWarning: The default of the `iid` parameter will change from True to False in version 0.22 and will be removed in 0.24. This will change numeric results when test-set sizes are unequal.\n",
      "  DeprecationWarning)\n"
     ]
    },
    {
     "name": "stdout",
     "output_type": "stream",
     "text": [
      "RESULTS FOR NN\n",
      "\n",
      "Best parameters set found:\n",
      "{'hidden_layer_sizes': (100,)} \n",
      "\n",
      "Score with best parameters:\n",
      "0.7832 \n",
      "\n",
      "All scores on the grid:\n",
      "[0.42144381 0.86112278 0.53980752 0.76545483 0.84554982 0.87188123\n",
      " 0.82133506 0.63684338]\n"
     ]
    },
    {
     "name": "stderr",
     "output_type": "stream",
     "text": [
      "/home/tommaso/anaconda3/lib/python3.7/site-packages/sklearn/utils/deprecation.py:125: FutureWarning: You are accessing a training score ('mean_train_score'), which will not be available by default any more in 0.21. If you need training scores, please set return_train_score=True\n",
      "  warnings.warn(*warn_args, **warn_kwargs)\n"
     ]
    }
   ],
   "source": [
    "parameters = {'hidden_layer_sizes': [(10,), (50,), (10,10,), (50,50,), (75,), (100,), (100, 100,), (100, 100, 100,)]}\n",
    "\n",
    "#parameters = {'hidden_layer_sizes': [(100,), (100, 100,), (100, 100, 100,)]}\n",
    "\n",
    "mlp = MLPClassifier(max_iter=300, alpha=1e-4,\n",
    "                    solver='sgd', tol=1e-4, random_state=ID,\n",
    "                    learning_rate_init=.1)\n",
    "\n",
    "#ADD YOUR CODE\n",
    "\n",
    "#fitter = GridSearchCV(mlp, parameters, return_train_score=True, cv=5)\n",
    "fitter = GridSearchCV(mlp, parameters, cv=5)\n",
    "\n",
    "\n",
    "fitter.fit(X_train, y_train)\n",
    "\n",
    "print ('RESULTS FOR NN\\n')\n",
    "\n",
    "print(\"Best parameters set found:\")\n",
    "#ADD YOUR CODE\n",
    "print(fitter.best_params_, \"\\n\")\n",
    "\n",
    "print(\"Score with best parameters:\")\n",
    "#ADD YOUR CODE\n",
    "print(fitter.best_score_, \"\\n\")\n",
    "\n",
    "print(\"All scores on the grid:\")\n",
    "#ADD YOUR CODE\n",
    "print(fitter.cv_results_['mean_train_score'])"
   ]
  },
  {
   "cell_type": "markdown",
   "metadata": {},
   "source": [
    "### QUESTION 1\n",
    "\n",
    "What do you observe for different architectures and their scores? How the nummber of layers and their sizes affect the performances?"
   ]
  },
  {
   "cell_type": "markdown",
   "metadata": {
    "collapsed": true
   },
   "source": [
    "One can notice that the results depends a lot on the choice of parameters: the best score is obtained with a single layer and 100 neurons, while bigger nets sometimes give worse results (for example (50, 50) is still better w.r.t. (50,) but (100, 100,) and (100, 100, 100,) become worse w.r.t. (100,) )."
   ]
  },
  {
   "cell_type": "markdown",
   "metadata": {},
   "source": [
    "### TO DO 2\n",
    "\n",
    "Now get training and test error for a NN with best parameters from above. Use verbose=True\n",
    "in input so to see how loss changes in iterations"
   ]
  },
  {
   "cell_type": "code",
   "execution_count": 34,
   "metadata": {},
   "outputs": [
    {
     "name": "stdout",
     "output_type": "stream",
     "text": [
      "Fitting 5 folds for each of 1 candidates, totalling 5 fits\n"
     ]
    },
    {
     "name": "stderr",
     "output_type": "stream",
     "text": [
      "[Parallel(n_jobs=4)]: Using backend LokyBackend with 4 concurrent workers.\n",
      "[Parallel(n_jobs=4)]: Done   5 out of   5 | elapsed:    2.1s finished\n",
      "/home/tommaso/anaconda3/lib/python3.7/site-packages/sklearn/model_selection/_search.py:841: DeprecationWarning: The default of the `iid` parameter will change from True to False in version 0.22 and will be removed in 0.24. This will change numeric results when test-set sizes are unequal.\n",
      "  DeprecationWarning)\n"
     ]
    },
    {
     "name": "stdout",
     "output_type": "stream",
     "text": [
      "\n",
      "RESULTS FOR BEST NN\n",
      "\n",
      "Best NN training error: 0.000000\n",
      "Best NN test error: 0.210437\n"
     ]
    }
   ],
   "source": [
    "#get training and test error for the best NN model from CV\n",
    "\n",
    "#ADD YOUR CODE\n",
    "best_fitter = GridSearchCV(mlp, {'hidden_layer_sizes':[(100,)]}, return_train_score=True, cv=5, verbose=True, n_jobs=4)\n",
    "\n",
    "best_fitter.fit(X_train, y_train)\n",
    "\n",
    "training_error = 1.-best_fitter.score(X_train, y_train)\n",
    "test_error = 1.-best_fitter.score(X_test, y_test)\n",
    "\n",
    "print ('\\nRESULTS FOR BEST NN\\n')\n",
    "\n",
    "print (\"Best NN training error: %f\" % training_error)\n",
    "print (\"Best NN test error: %f\" % test_error)"
   ]
  },
  {
   "cell_type": "markdown",
   "metadata": {},
   "source": [
    "## More data \n",
    "Now let's do the same but using 10000 (or less if it takes too long on your machine) data points for training. Use the same NN architectures as before, but you can try more if you want!"
   ]
  },
  {
   "cell_type": "code",
   "execution_count": 35,
   "metadata": {},
   "outputs": [
    {
     "name": "stdout",
     "output_type": "stream",
     "text": [
      "Labels and frequencies in training dataset: \n"
     ]
    },
    {
     "data": {
      "text/plain": [
       "(array([0, 1, 2, 3, 4, 5, 6, 7, 8, 9], dtype=uint8),\n",
       " array([1010, 1034,  954,  982, 1008, 1032,  984, 1001,  974, 1021]))"
      ]
     },
     "execution_count": 35,
     "metadata": {},
     "output_type": "execute_result"
    }
   ],
   "source": [
    "X = X[permutation]\n",
    "y = y[permutation]\n",
    "\n",
    "m_training = 10000\n",
    "\n",
    "X_train, X_test = X[:m_training], X[m_training:]\n",
    "y_train, y_test = y[:m_training], y[m_training:]\n",
    "\n",
    "print(\"Labels and frequencies in training dataset: \")\n",
    "np.unique(y_train, return_counts=True)"
   ]
  },
  {
   "cell_type": "markdown",
   "metadata": {},
   "source": [
    "## TO DO 3\n",
    "\n",
    "Now train the NNs with the added data points. Feel free to try more different architectures than before if you want, or less if it takes too much time. We suggest that you use 'verbose=True' so have an idea of how long it takes to run 1 iteration (eventually reduce also the number of iterations to 50)."
   ]
  },
  {
   "cell_type": "code",
   "execution_count": 36,
   "metadata": {},
   "outputs": [
    {
     "name": "stderr",
     "output_type": "stream",
     "text": [
      "/home/tommaso/anaconda3/lib/python3.7/site-packages/sklearn/model_selection/_search.py:841: DeprecationWarning: The default of the `iid` parameter will change from True to False in version 0.22 and will be removed in 0.24. This will change numeric results when test-set sizes are unequal.\n",
      "  DeprecationWarning)\n"
     ]
    },
    {
     "name": "stdout",
     "output_type": "stream",
     "text": [
      "\n",
      "RESULTS FOR NN\n",
      "\n",
      "Best parameters set found:\n",
      "{'hidden_layer_sizes': (100,)}\n",
      "Score with best parameters:\n",
      "0.8437\n",
      "\n",
      "All scores on the grid:\n",
      "[0.6041 0.7901 0.8375 0.8437 0.563  0.7772 0.6964 0.7943 0.7598]\n"
     ]
    }
   ],
   "source": [
    "#for NN we try the same architectures as before\n",
    "#parameters = {'hidden_layer_sizes': [(10,), (50,), (10,10,), (50,50,)]}\n",
    "parameters = {'hidden_layer_sizes': [(10,), (50,), (75,), (100,), (10,10,), (50,50,), (100, 100,), (50, 50, 50,), (100, 100, 100,)]}\n",
    "\n",
    "\n",
    "#ADD YOUR CODE\n",
    "def f():\n",
    "    fitter_f = GridSearchCV(mlp, parameters, return_train_score=True, cv=5, n_jobs=4)\n",
    "    fitter_f.fit(X_train, y_train)\n",
    "    \n",
    "    return fitter_f\n",
    "\n",
    "mlp_large_CV = f()\n",
    "\n",
    "print ('\\nRESULTS FOR NN\\n')\n",
    "\n",
    "print(\"Best parameters set found:\")\n",
    "print(mlp_large_CV.best_params_)\n",
    "\n",
    "print(\"Score with best parameters:\")\n",
    "print(mlp_large_CV.best_score_)\n",
    "\n",
    "print(\"\\nAll scores on the grid:\")\n",
    "print(mlp_large_CV.cv_results_['mean_test_score'])"
   ]
  },
  {
   "cell_type": "markdown",
   "metadata": {},
   "source": [
    "## QUESTION 2\n",
    "Describe your architecture choices and the results you observe with respect to the layers and sizes used."
   ]
  },
  {
   "cell_type": "markdown",
   "metadata": {},
   "source": [
    "My choices were made to analyze better the case of 1 layer NN and then try to explore multi-layers NN (without doing extreme things).\n",
    "\n",
    "The scores \"have a maximum\" around the architecture with 75 neurons with 1 layer. For other layers architectures, it seems that those with 2 layers are generally better w.r.t. those with 3 layers. Furthermore, for 2 layers architectures, the maximum is achieved with the (100, 100,) architecture."
   ]
  },
  {
   "cell_type": "markdown",
   "metadata": {},
   "source": [
    "## TO DO 4\n",
    "\n",
    "Get the train and test error for the best NN you obtained with 10000 points. This time you can run for 100 iterations. \n"
   ]
  },
  {
   "cell_type": "code",
   "execution_count": 37,
   "metadata": {},
   "outputs": [
    {
     "name": "stdout",
     "output_type": "stream",
     "text": [
      "RESULTS FOR BEST NN\n",
      "\n",
      "Best NN training error: 0.000000\n",
      "Best NN test error: 0.139260\n"
     ]
    }
   ],
   "source": [
    "#get training and test error for the best NN model from CV\n",
    "\n",
    "#ADD YOUR CODE\n",
    "\"\"\"\n",
    "mlp = MLPClassifier(max_iter=100, alpha=1e-4,\n",
    "                    solver='sgd', tol=1e-4, random_state=ID,\n",
    "                    learning_rate_init=.1)\n",
    "\"\"\"\n",
    "\n",
    "training_error = 1.-mlp_large_CV.score(X_train, y_train)\n",
    "test_error = 1.-mlp_large_CV.score(X_test, y_test)\n",
    "\n",
    "print ('RESULTS FOR BEST NN\\n')\n",
    "\n",
    "print (\"Best NN training error: %f\" % training_error)\n",
    "print (\"Best NN test error: %f\" % test_error)"
   ]
  },
  {
   "cell_type": "markdown",
   "metadata": {},
   "source": [
    "## QUESTION 3\n",
    "\n",
    "Compare the train and test error you got with a large number of samples with the best one you obtained with only 500 data points. Are the architectures the same or do they differ? What about the errors you get?"
   ]
  },
  {
   "cell_type": "markdown",
   "metadata": {},
   "source": [
    "### Results for 500 training clothes:\n",
    "\n",
    "Best fitter: (100,)\n",
    "\n",
    "Best NN training error: 0.038200\n",
    "\n",
    "Best NN test error: 0.139100\n",
    "\n",
    "### Results for 10000 training clothes:\n",
    "\n",
    "Best fitter: (100, 100,)\n",
    "\n",
    "Best NN training error: 0.036300\n",
    "\n",
    "Best NN test error: 0.146060"
   ]
  },
  {
   "cell_type": "markdown",
   "metadata": {},
   "source": [
    "### TO DO 5\n",
    "\n",
    "Plot a digit that was missclassified by NN with m=500 training data points and it is now instead correctly classified by NN with m=10000 training data points."
   ]
  },
  {
   "cell_type": "code",
   "execution_count": 38,
   "metadata": {},
   "outputs": [],
   "source": [
    "# preparing predicted sets\n",
    "NN_prediction = best_fitter.predict(X_test)\n",
    "large_NN_prediction = mlp_large_CV.predict(X_test)"
   ]
  },
  {
   "cell_type": "code",
   "execution_count": 39,
   "metadata": {},
   "outputs": [
    {
     "name": "stdout",
     "output_type": "stream",
     "text": [
      "(50000,)\n",
      "(50000,)\n"
     ]
    }
   ],
   "source": [
    "# printing their shapes to check if they are equal\n",
    "print(NN_prediction.shape)\n",
    "print(large_NN_prediction.shape)"
   ]
  },
  {
   "cell_type": "code",
   "execution_count": 40,
   "metadata": {},
   "outputs": [
    {
     "name": "stdout",
     "output_type": "stream",
     "text": [
      "0 False 2\n",
      "1 False 5\n",
      "2 False 0\n",
      "3 False 1\n",
      "4 False 2\n",
      "5 False 1\n",
      "6 False 9\n",
      "7 False 3\n",
      "8 False 5\n",
      "9 True 0\n",
      "INPUT:\n"
     ]
    },
    {
     "data": {
      "image/png": "[encoded data removed]",
      "text/plain": [
       "<Figure size 432x288 with 1 Axes>"
      ]
     },
     "metadata": {
      "needs_background": "light"
     },
     "output_type": "display_data"
    },
    {
     "name": "stdout",
     "output_type": "stream",
     "text": [
      "LABEL: 0\n",
      "SVM prediction:  6\n",
      "Logistic prediction:  0\n"
     ]
    }
   ],
   "source": [
    "#ADD YOUR CODE\n",
    "\n",
    "i = 0\n",
    "found = False\n",
    "while found==False:\n",
    "    if (NN_prediction[i] != y_test[i] and (large_NN_prediction[i] == y_test[i])):\n",
    "        found = True\n",
    "    print(i, found, large_NN_prediction[i])\n",
    "    i += 1\n",
    "\n",
    "\n",
    "plot_input(X_test,y_test,i-1)\n",
    "print(\"SVM prediction: \", NN_prediction[i-1])\n",
    "print(\"Logistic prediction: \", large_NN_prediction[i-1])\n",
    "\n",
    "### ADD CODE TO SEARCH AND VISUALIZE"
   ]
  },
  {
   "cell_type": "markdown",
   "metadata": {},
   "source": [
    "Let's plot the weigths of the multi-layer perceptron classifier, for the best NN we get with 500 data points and with 50000 data points. Notice that the code assumes that the NNs are called \"mlp\" and \"best_mlp_large\" , you could need to replace with your variable names.\n",
    "\n"
   ]
  },
  {
   "cell_type": "code",
   "execution_count": 41,
   "metadata": {},
   "outputs": [
    {
     "name": "stdout",
     "output_type": "stream",
     "text": [
      "Weights with 500 data points:\n"
     ]
    },
    {
     "data": {
      "image/png": "[encoded data removed]",
      "text/plain": [
       "<Figure size 432x288 with 16 Axes>"
      ]
     },
     "metadata": {},
     "output_type": "display_data"
    },
    {
     "name": "stdout",
     "output_type": "stream",
     "text": [
      "Weights with 10000 data points:\n"
     ]
    },
    {
     "data": {
      "image/png": "[encoded data removed]",
      "text/plain": [
       "<Figure size 432x288 with 16 Axes>"
      ]
     },
     "metadata": {},
     "output_type": "display_data"
    }
   ],
   "source": [
    "print(\"Weights with 500 data points:\")\n",
    "\n",
    "# TO REPLACE:\n",
    "mlp = best_fitter.best_estimator_\n",
    "best_mlp_large = mlp_large_CV.best_estimator_\n",
    "\n",
    "fig, axes = plt.subplots(4, 4)\n",
    "vmin, vmax = mlp.coefs_[0].min(), mlp.coefs_[0].max()\n",
    "for coef, ax in zip(mlp.coefs_[0].T, axes.ravel()):\n",
    "    ax.matshow(coef.reshape(28, 28), cmap=plt.cm.gray, vmin=.5 * vmin, vmax=.5 * vmax)\n",
    "    ax.set_xticks(())\n",
    "    ax.set_yticks(())\n",
    "\n",
    "plt.show()\n",
    "\n",
    "print(\"Weights with 10000 data points:\")\n",
    "\n",
    "fig, axes = plt.subplots(4, 4)\n",
    "vmin, vmax = best_mlp_large.coefs_[0].min(), best_mlp_large.coefs_[0].max()\n",
    "for coef, ax in zip(best_mlp_large.coefs_[0].T, axes.ravel()):\n",
    "    ax.matshow(coef.reshape(28, 28), cmap=plt.cm.gray, vmin=.5 * vmin, vmax=.5 * vmax)\n",
    "    ax.set_xticks(())\n",
    "    ax.set_yticks(())\n",
    "plt.show()"
   ]
  },
  {
   "cell_type": "markdown",
   "metadata": {},
   "source": [
    "## QUESTION 4\n",
    "\n",
    "Describe what do you observe by looking at the weights\n",
    "\n",
    "Some \"picture weights\" becomes \"irrelevant\" (they are mainly almost uniform grey) while others becomes \"more datailed\".\n",
    "\n",
    "I think those more detailed becomes more useful while fitting parameters."
   ]
  },
  {
   "cell_type": "markdown",
   "metadata": {},
   "source": [
    "### TO DO 7\n",
    "\n",
    "Report the best SVM model and its parameters, you found in the last notebook. Fit it on a few data points and compute its training and test scores."
   ]
  },
  {
   "cell_type": "code",
   "execution_count": 42,
   "metadata": {},
   "outputs": [
    {
     "name": "stdout",
     "output_type": "stream",
     "text": [
      "RESULTS FOR SVM \n",
      "\n",
      "Training error SVM:\n",
      "0.038000000000000034 \n",
      "\n",
      "Test error SVM:\n",
      "0.1542\n"
     ]
    }
   ],
   "source": [
    "m_training = 5000\n",
    "\n",
    "X_train, X_test = X[:m_training], X[m_training:2*m_training]\n",
    "y_train, y_test = y[:m_training], y[m_training:2*m_training]\n",
    "\n",
    "# best parameters found in the SVM notebook\n",
    "# Best fitter:  {'C': 100, 'gamma': 0.01, 'kernel': 'rbf'}\n",
    "\n",
    "# Create the SVM and perform the fit\n",
    "\n",
    "#ADD YOUR CODE\n",
    "best_SVM = SVC(kernel='rbf', C=100.0, gamma=0.001)\n",
    "best_SVM.fit(X_train, y_train)\n",
    "\n",
    "print ('RESULTS FOR SVM', \"\\n\")\n",
    "\n",
    "SVM_training_error = 1.-best_SVM.score(X_train, y_train)\n",
    "\n",
    "print(\"Training error SVM:\")\n",
    "print(SVM_training_error, \"\\n\")\n",
    "\n",
    "SVM_test_error = 1.-best_SVM.score(X_test, y_test)\n",
    "print(\"Test error SVM:\")\n",
    "print(SVM_test_error)"
   ]
  },
  {
   "cell_type": "markdown",
   "metadata": {
    "collapsed": true
   },
   "source": [
    "## QUESTION 5\n",
    "Compare the results of SVM and of NN. Which one would you preferer? Which are its tradeoffs?"
   ]
  },
  {
   "cell_type": "markdown",
   "metadata": {
    "collapsed": true
   },
   "source": [
    "### RESULTS FOR BEST NN\n",
    "\n",
    "Best NN training error: 0.036300\n",
    "\n",
    "Best NN test error: 0.146060\n",
    "\n",
    "### RESULTS FOR SVM \n",
    "\n",
    "Training error SVM: 0.038000000000000034\n",
    "\n",
    "Test error SVM: 0.1542\n",
    "\n",
    "##### It seems that the NN has better results w.r.t the SVM: maybe this is due to the fact that the NN has a larger set of parameters that can fit better the data and their \"small deifferences\". (It is not perfect and the huge set of parameters compared with that of the SVM lead to a \"small\" improvement of the results...)"
   ]
  }
 ],
 "metadata": {
  "kernelspec": {
   "display_name": "Python 3",
   "language": "python",
   "name": "python3"
  },
  "language_info": {
   "codemirror_mode": {
    "name": "ipython",
    "version": 3
   },
   "file_extension": ".py",
   "mimetype": "text/x-python",
   "name": "python",
   "nbconvert_exporter": "python",
   "pygments_lexer": "ipython3",
   "version": "3.7.1"
  }
 },
 "nbformat": 4,
 "nbformat_minor": 2
}
