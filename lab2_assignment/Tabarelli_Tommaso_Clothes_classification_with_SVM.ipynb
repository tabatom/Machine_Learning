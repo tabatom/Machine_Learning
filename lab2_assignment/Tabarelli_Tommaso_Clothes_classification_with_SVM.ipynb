{
 "cells": [
  {
   "cell_type": "markdown",
   "metadata": {},
   "source": [
    "# Clothes Classification with Support Vector Machines\n",
    "\n",
    "In this notebook we are going to explore the use of Support Vector Machines (SVM) for image classification. We are going to use a new version of the famous MNIST dataset (the original is a dataset of handwritten digits). The version we are going to use is called Fashion MNIST (https://pravarmahajan.github.io/fashion/) and is a dataset of small images of clothes and accessories.\n",
    "\n",
    "\n",
    "\n",
    "The dataset labels are the following:\n",
    "\n",
    "| Label | Description |\n",
    "| --- | --- |\n",
    "| 0 | T-shirt/top |\n",
    "| 1 | Trouser |\n",
    "| 2 | Pullover |\n",
    "| 3 | Dress |\n",
    "| 4 | Coat |\n",
    "| 5 | Sandal |\n",
    "| 6 | Shirt |\n",
    "| 7 | Sneaker |\n",
    "| 8 | Bag |\n",
    "| 9 | Ankle boot |"
   ]
  },
  {
   "cell_type": "code",
   "execution_count": 1,
   "metadata": {},
   "outputs": [],
   "source": [
    "#load the required packages\n",
    "\n",
    "%matplotlib inline  \n",
    "\n",
    "import numpy as np\n",
    "import scipy as sp\n",
    "import matplotlib.pyplot as plt\n",
    "\n",
    "import sklearn\n",
    "import sklearn.metrics as skm\n",
    "from sklearn.datasets import fetch_mldata\n",
    "from sklearn.neural_network import MLPClassifier"
   ]
  },
  {
   "cell_type": "code",
   "execution_count": 2,
   "metadata": {},
   "outputs": [],
   "source": [
    "# helper function to load Fashion MNIST dataset\n",
    "def load_mnist(path, kind='train'):\n",
    "    import os\n",
    "    import gzip\n",
    "    import numpy as np\n",
    "    labels_path = os.path.join(path, '%s-labels-idx1-ubyte.gz' % kind)\n",
    "    images_path = os.path.join(path, '%s-images-idx3-ubyte.gz' % kind)\n",
    "    with gzip.open(labels_path, 'rb') as lbpath:\n",
    "        labels = np.frombuffer(lbpath.read(), dtype=np.uint8,offset=8)\n",
    "    with gzip.open(images_path, 'rb') as imgpath:\n",
    "        images = np.frombuffer(imgpath.read(), dtype=np.uint8,offset=16).reshape(len(labels), 784)\n",
    "    return images, labels"
   ]
  },
  {
   "cell_type": "code",
   "execution_count": 3,
   "metadata": {},
   "outputs": [],
   "source": [
    "#fix your ID (\"numero di matricola\") and the seed for random generator (as usual you can try different seeds)\n",
    "ID = 1205459\n",
    "np.random.seed(ID)"
   ]
  },
  {
   "cell_type": "code",
   "execution_count": 4,
   "metadata": {},
   "outputs": [],
   "source": [
    "#load the Fashion MNIST dataset from the 'data' folder and let's normalize the features so that each value is in [0,1] \n",
    "\n",
    "X, y = load_mnist('data', kind='train')\n",
    "# rescale the data\n",
    "X, y = X / 255., y # original pixel values are between 0 and 255"
   ]
  },
  {
   "cell_type": "markdown",
   "metadata": {},
   "source": [
    "Now split into training and test. Make sure that each label is present at least 10 times\n",
    "in training. If it is not, then keep adding permutations to the initial data until this \n",
    "happens."
   ]
  },
  {
   "cell_type": "code",
   "execution_count": 5,
   "metadata": {},
   "outputs": [
    {
     "name": "stdout",
     "output_type": "stream",
     "text": [
      "Labels in training dataset:  [0 1 2 3 4 5 6 7 8 9]\n",
      "Frequencies in training dataset:  [45 45 48 54 58 51 40 46 48 65]\n"
     ]
    }
   ],
   "source": [
    "#random permute the data and split into training and test taking the first 500\n",
    "#data samples as training and the rests as test\n",
    "permutation = np.random.permutation(X.shape[0])\n",
    "\n",
    "X = X[permutation]\n",
    "y = y[permutation]\n",
    "\n",
    "m_training = 500\n",
    "\n",
    "X_train, X_test = X[:m_training], X[m_training:]\n",
    "y_train, y_test = y[:m_training], y[m_training:]\n",
    "\n",
    "labels, freqs = np.unique(y_train, return_counts=True)\n",
    "print(\"Labels in training dataset: \", labels)\n",
    "print(\"Frequencies in training dataset: \", freqs)\n"
   ]
  },
  {
   "cell_type": "code",
   "execution_count": 6,
   "metadata": {},
   "outputs": [],
   "source": [
    "#function for plotting a image and printing the corresponding label\n",
    "def plot_input(X_matrix, labels, index):\n",
    "    print(\"INPUT:\")\n",
    "    plt.imshow(\n",
    "        X_matrix[index].reshape(28,28),\n",
    "        cmap          = plt.cm.Blues,\n",
    "        interpolation = \"nearest\"\n",
    "    )\n",
    "    plt.show()\n",
    "    print(\"LABEL: %i\"%labels[index])\n",
    "    return"
   ]
  },
  {
   "cell_type": "code",
   "execution_count": 7,
   "metadata": {},
   "outputs": [
    {
     "name": "stdout",
     "output_type": "stream",
     "text": [
      "INPUT:\n"
     ]
    },
    {
     "data": {
      "image/png": "[encoded data removed]",
      "text/plain": [
       "<Figure size 432x288 with 1 Axes>"
      ]
     },
     "metadata": {},
     "output_type": "display_data"
    },
    {
     "name": "stdout",
     "output_type": "stream",
     "text": [
      "LABEL: 5\n",
      "INPUT:\n"
     ]
    },
    {
     "data": {
      "image/png": "[encoded data removed]",
      "text/plain": [
       "<Figure size 432x288 with 1 Axes>"
      ]
     },
     "metadata": {},
     "output_type": "display_data"
    },
    {
     "name": "stdout",
     "output_type": "stream",
     "text": [
      "LABEL: 3\n",
      "INPUT:\n"
     ]
    },
    {
     "data": {
      "image/png": "[encoded data removed]",
      "text/plain": [
       "<Figure size 432x288 with 1 Axes>"
      ]
     },
     "metadata": {},
     "output_type": "display_data"
    },
    {
     "name": "stdout",
     "output_type": "stream",
     "text": [
      "LABEL: 9\n",
      "INPUT:\n"
     ]
    },
    {
     "data": {
      "image/png": "[encoded data removed]",
      "text/plain": [
       "<Figure size 432x288 with 1 Axes>"
      ]
     },
     "metadata": {},
     "output_type": "display_data"
    },
    {
     "name": "stdout",
     "output_type": "stream",
     "text": [
      "LABEL: 4\n"
     ]
    }
   ],
   "source": [
    "#let's try the plotting function\n",
    "plot_input(X_train,y_train,10)\n",
    "plot_input(X_test,y_test,100)\n",
    "plot_input(X_test,y_test,1000)\n",
    "plot_input(X_test,y_test,10000)"
   ]
  },
  {
   "cell_type": "markdown",
   "metadata": {},
   "source": [
    "## TO DO 1\n",
    "Use a SVM classifier with cross validation to pick a model. Use a 5-fold cross-validation. Let's start with a Linear kernel:"
   ]
  },
  {
   "cell_type": "code",
   "execution_count": 16,
   "metadata": {},
   "outputs": [
    {
     "name": "stdout",
     "output_type": "stream",
     "text": [
      "\n",
      "RESULTS FOR LINEAR KERNEL\n",
      "\n",
      "Best parameters set found: \n",
      "\n",
      "{'C': 100}\n",
      "\n",
      "Score with best parameters: \n",
      "\n",
      "0.816\n",
      "\n",
      "All scores on the grid: \n",
      "\n",
      "[0.12999839 0.12999839 0.14097952 0.73497713 0.92000792 1.        ]\n"
     ]
    }
   ],
   "source": [
    "#import SVC\n",
    "from sklearn.svm import SVC\n",
    "#import for Cross-Validation\n",
    "from sklearn.model_selection import GridSearchCV\n",
    "\n",
    "#grid of parameters for your SVC\n",
    "param_grid = [\n",
    "  {'C': [0.001, 0.01, 0.1, 1., 10, 100, 1000], 'gamma':[0.01, 0.001], 'kernel': ['linear']},\n",
    "  {'C': [0.01, 0.1, 1, 10, 100, 1000], 'gamma': [0.01, 0.001], 'kernel': ['rbf']},\n",
    "  {'C': [0.01, 0.1, 1, 10, 100, 1000], 'gamma': [0.01, 0.001], 'kernel': ['poly'], 'degree':[2,3]},\n",
    " ]\n",
    "\n",
    "# parameters for linear SVM\n",
    "parameters = {'C': [0.001, 0.01, 0.1, 1, 10, 100]}\n",
    "\n",
    "#run linear SVM\n",
    "\n",
    "regression = GridSearchCV(SVC('linear'), parameters, return_train_score=True)\n",
    "\n",
    "regression.fit(X_train, y_train)\n",
    "\n",
    "print('\\nRESULTS FOR LINEAR KERNEL')\n",
    "\n",
    "print(\"\\nBest parameters set found:\", \"\\n\")\n",
    "print(regression.best_params_)\n",
    "#print(regression.best_params_)\n",
    "\n",
    "print(\"\\nScore with best parameters:\", \"\\n\")\n",
    "print(regression.best_score_)\n",
    "\n",
    "print(\"\\nAll scores on the grid:\", \"\\n\")\n",
    "print(regression.cv_results_['mean_train_score'])"
   ]
  },
  {
   "cell_type": "markdown",
   "metadata": {},
   "source": [
    "## TO DO 2\n",
    "Pick a model for the Polynomial kernel with degree=2:"
   ]
  },
  {
   "cell_type": "code",
   "execution_count": 17,
   "metadata": {},
   "outputs": [
    {
     "name": "stdout",
     "output_type": "stream",
     "text": [
      "\n",
      "RESULTS FOR POLY DEGREE=2 KERNEL\n",
      "\n",
      "\n",
      "Best parameters set found:\n",
      "\n",
      "{'C': 0.01, 'gamma': 1.0}\n",
      "\n",
      "Score with best parameters:\n",
      "\n",
      "0.802\n",
      "\n",
      "All scores on the grid:\n",
      "\n",
      "[0.23903837 0.89300721 1.         0.66500723 0.99699088 1.\n",
      " 0.89300721 1.         1.        ]\n"
     ]
    }
   ],
   "source": [
    "# parameters for poly with degree 2 kernel\n",
    "parameters = {'C': [0.01, 0.1, 1],'gamma':[0.01,0.1,1.]}\n",
    "\n",
    "#run SVM with poly of degree 2 kernel\n",
    "\n",
    "reg_pol_2 = GridSearchCV(SVC(kernel='poly', degree=2), parameters, return_train_score=True)\n",
    "reg_pol_2.fit(X_train, y_train)\n",
    "\n",
    "print('\\nRESULTS FOR POLY DEGREE=2 KERNEL\\n')\n",
    "\n",
    "print(\"\\nBest parameters set found:\\n\")\n",
    "print(reg_pol_2.best_params_)\n",
    "\n",
    "print(\"\\nScore with best parameters:\\n\")\n",
    "print(reg_pol_2.best_score_)\n",
    "\n",
    "print(\"\\nAll scores on the grid:\\n\")\n",
    "print(reg_pol_2.cv_results_['mean_train_score'])"
   ]
  },
  {
   "cell_type": "markdown",
   "metadata": {},
   "source": [
    "## TO DO 3\n",
    "\n",
    "Now let's try a higher degree for the polynomial kernel."
   ]
  },
  {
   "cell_type": "code",
   "execution_count": 18,
   "metadata": {},
   "outputs": [
    {
     "name": "stdout",
     "output_type": "stream",
     "text": [
      "RESULTS FOR POLY DEGREE= 3  KERNEL\n",
      "\n",
      "Best parameters set found:\n",
      "\n",
      "{'C': 0.01, 'gamma': 1.0}\n",
      "\n",
      "Score with best parameters:\n",
      "\n",
      "0.782\n",
      "\n",
      "All scores on the grid:\n",
      "\n",
      "[0.35700037 0.97997341 1.         0.67102547 1.         1.\n",
      " 0.90802867 1.         1.        ]\n"
     ]
    }
   ],
   "source": [
    "# parameters for poly with higher degree kernel\n",
    "parameters = {'C': [0.01, 0.1, 1],'gamma':[0.01,0.1,1.]}\n",
    "\n",
    "#run SVM with poly of higher degree kernel\n",
    "degree = 3\n",
    "\n",
    "reg_pol_3 = GridSearchCV(SVC(kernel='poly', degree=3), parameters, return_train_score=True)\n",
    "reg_pol_3.fit(X_train, y_train)\n",
    "\n",
    "print('RESULTS FOR POLY DEGREE=', degree, ' KERNEL')\n",
    "\n",
    "print(\"\\nBest parameters set found:\\n\")\n",
    "print(reg_pol_3.best_params_)\n",
    "\n",
    "print(\"\\nScore with best parameters:\\n\")\n",
    "print(reg_pol_3.best_score_)\n",
    "\n",
    "print(\"\\nAll scores on the grid:\\n\")\n",
    "print(reg_pol_3.cv_results_['mean_train_score'])"
   ]
  },
  {
   "cell_type": "markdown",
   "metadata": {},
   "source": [
    "## TO DO4 \n",
    "What do you observe when fitting a higher degree polynomial on this dataset?"
   ]
  },
  {
   "cell_type": "markdown",
   "metadata": {},
   "source": [
    "I notice that the score become smaller while the polynomial degree increases, so maybe the better models could be low degree polynomial ones, or non-polynomial ones."
   ]
  },
  {
   "cell_type": "markdown",
   "metadata": {},
   "source": [
    "## TO DO 5\n",
    "Pick a model for the Radial Basis Function kernel:"
   ]
  },
  {
   "cell_type": "code",
   "execution_count": 19,
   "metadata": {},
   "outputs": [
    {
     "name": "stdout",
     "output_type": "stream",
     "text": [
      "RESULTS FOR rbf KERNEL\n",
      "\n",
      "\n",
      "Best parameters set found:\n",
      "\n",
      "{'C': 100, 'gamma': 0.001}\n",
      "\n",
      "Score with best parameters:\n",
      "\n",
      "0.816\n",
      "\n",
      "All scores on the grid:\n",
      "[0.12999839 0.49403927 0.49403927 0.12999839 0.70796749 0.90001144\n",
      " 0.90001144 1.         0.90899358 1.         1.         1.\n",
      " 1.         1.         1.         1.        ]\n"
     ]
    }
   ],
   "source": [
    "# parameters for rbf SVM\n",
    "parameters = {'C': [0.1, 1, 10, 100],'gamma':[0.001, 0.01, 0.01,0.1]}\n",
    "\n",
    "#run SVM with rbf kernel\n",
    "\n",
    "reg_rbf = GridSearchCV(SVC(), parameters, return_train_score=True)\n",
    "reg_rbf.fit(X_train, y_train)\n",
    "\n",
    "print('RESULTS FOR rbf KERNEL\\n')\n",
    "\n",
    "print(\"\\nBest parameters set found:\\n\")\n",
    "print(reg_rbf.best_params_)\n",
    "\n",
    "print(\"\\nScore with best parameters:\\n\")\n",
    "print(reg_rbf.best_score_)\n",
    "\n",
    "print(\"\\nAll scores on the grid:\")\n",
    "print(reg_rbf.cv_results_['mean_train_score'])"
   ]
  },
  {
   "cell_type": "markdown",
   "metadata": {},
   "source": [
    "## TO DO 6\n",
    "Report here the best SVM kernel and parameters"
   ]
  },
  {
   "cell_type": "code",
   "execution_count": 20,
   "metadata": {},
   "outputs": [
    {
     "data": {
      "text/plain": [
       "GridSearchCV(cv=5, error_score='raise',\n",
       "       estimator=SVC(C=1.0, cache_size=200, class_weight=None, coef0=0.0,\n",
       "  decision_function_shape='ovr', degree=3, gamma='auto', kernel='rbf',\n",
       "  max_iter=-1, probability=False, random_state=None, shrinking=True,\n",
       "  tol=0.001, verbose=False),\n",
       "       fit_params=None, iid=True, n_jobs=1,\n",
       "       param_grid=[{'C': [0.001, 0.01, 0.1, 1.0, 10, 100, 1000], 'gamma': [0.01, 0.001], 'kernel': ['linear']}, {'C': [0.01, 0.1, 1, 10, 100, 1000], 'gamma': [0.01, 0.001], 'kernel': ['rbf']}, {'C': [0.01, 0.1, 1, 10, 100, 1000], 'gamma': [0.01, 0.001], 'kernel': ['poly'], 'degree': [2, 3]}],\n",
       "       pre_dispatch='2*n_jobs', refit=True, return_train_score='warn',\n",
       "       scoring=None, verbose=0)"
      ]
     },
     "execution_count": 20,
     "metadata": {},
     "output_type": "execute_result"
    }
   ],
   "source": [
    "#get training and test error for the best SVM model from CV\n",
    "\n",
    "best_SVM = GridSearchCV(SVC(), param_grid, cv=5)\n",
    "#print(best_SVM)\n",
    "\n",
    "# The best solution (that with best score) is: kernel:'rbf'\n",
    "#best_SVM = SVC(kernel='rbf', C=100.0, gamma=0.001)\n",
    "\n",
    "best_SVM.fit(X_train, y_train)"
   ]
  },
  {
   "cell_type": "code",
   "execution_count": 21,
   "metadata": {
    "scrolled": false
   },
   "outputs": [
    {
     "name": "stdout",
     "output_type": "stream",
     "text": [
      "Best fitter:  {'C': 100, 'gamma': 0.01, 'kernel': 'rbf'}\n",
      "Best SVM training error: 0.000000\n",
      "Best SVM test error: 0.209076\n"
     ]
    }
   ],
   "source": [
    "training_error = 1. - best_SVM.score(X_train,y_train)\n",
    "test_error = 1. - best_SVM.score(X_test,y_test)\n",
    "\n",
    "print (\"Best fitter: \", best_SVM.best_params_)\n",
    "print (\"Best SVM training error: %f\" % training_error)\n",
    "print (\"Best SVM test error: %f\" % test_error)"
   ]
  },
  {
   "cell_type": "markdown",
   "metadata": {},
   "source": [
    "## More data\n",
    "Now let's do the same but using more data points for training.\n",
    "\n",
    "### TO DO 7\n",
    "Choose a new number of data points."
   ]
  },
  {
   "cell_type": "code",
   "execution_count": 23,
   "metadata": {},
   "outputs": [
    {
     "name": "stdout",
     "output_type": "stream",
     "text": [
      "Labels in training dataset:  [0 1 2 3 4 5 6 7 8 9]\n",
      "Frequencies in training dataset:  [2970 3030 2994 3020 2969 2968 2992 3037 3061 2959]\n"
     ]
    }
   ],
   "source": [
    "X = X[permutation]\n",
    "y = y[permutation]\n",
    "\n",
    "m_training = 30000 # TODO number of data points, adjust depending on the capabilities of your PC\n",
    "\n",
    "#best_SVM = SVC(kernel='rbf', C=100.0, gamma=0.001)\n",
    "\n",
    "X_train, X_test = X[:m_training], X[m_training:]\n",
    "y_train, y_test = y[:m_training], y[m_training:]\n",
    "\n",
    "labels, freqs = np.unique(y_train, return_counts=True)\n",
    "print(\"Labels in training dataset: \", labels)\n",
    "print(\"Frequencies in training dataset: \", freqs)"
   ]
  },
  {
   "cell_type": "markdown",
   "metadata": {},
   "source": [
    "Let's try to use SVM with parameters obtained from the best model for $m_{training} =  500$. Since it may take a long time to run, you can decide to just let it run for some time and stop it if it does not complete. If you decide to do this, report it in the TO DO 9 cell below."
   ]
  },
  {
   "cell_type": "markdown",
   "metadata": {},
   "source": [
    "Best fitter:  {'C': 100, 'gamma': 0.01, 'kernel': 'rbf'}"
   ]
  },
  {
   "cell_type": "code",
   "execution_count": null,
   "metadata": {},
   "outputs": [],
   "source": [
    "#get training and test error for the best SVM model from CV\n",
    "\n",
    "best_SVM = SVC(kernel='rbf', C=100.0, gamma=0.01)\n",
    "\n",
    "best_SVM.fit(X_train, y_train)"
   ]
  },
  {
   "cell_type": "code",
   "execution_count": 24,
   "metadata": {
    "scrolled": true
   },
   "outputs": [
    {
     "name": "stdout",
     "output_type": "stream",
     "text": [
      "Best SVM training error: 0.000200\n",
      "Best SVM test error: 0.111800\n"
     ]
    }
   ],
   "source": [
    "training_error = 1. - best_SVM.score(X_train,y_train)\n",
    "test_error = 1. - best_SVM.score(X_test,y_test)\n",
    "\n",
    "#print (\"Best fitter: \", best_SVM.best_params_)\n",
    "print (\"Best SVM training error: %f\" % training_error)\n",
    "print (\"Best SVM test error: %f\" % test_error)"
   ]
  },
  {
   "cell_type": "markdown",
   "metadata": {},
   "source": [
    "Just for comparison, let's also use logistic regression (with standard parameters from scikit-learn, i.e. some regularization is included)."
   ]
  },
  {
   "cell_type": "code",
   "execution_count": 25,
   "metadata": {},
   "outputs": [],
   "source": [
    "from sklearn import linear_model"
   ]
  },
  {
   "cell_type": "code",
   "execution_count": 26,
   "metadata": {},
   "outputs": [
    {
     "data": {
      "text/plain": [
       "LogisticRegression(C=1.0, class_weight=None, dual=False, fit_intercept=True,\n",
       "          intercept_scaling=1, max_iter=100, multi_class='ovr', n_jobs=1,\n",
       "          penalty='l2', random_state=None, solver='liblinear', tol=0.0001,\n",
       "          verbose=0, warm_start=False)"
      ]
     },
     "execution_count": 26,
     "metadata": {},
     "output_type": "execute_result"
    }
   ],
   "source": [
    "sci_regression = linear_model.LogisticRegression()\n",
    "\n",
    "sci_regression.fit(X_train, y_train)"
   ]
  },
  {
   "cell_type": "code",
   "execution_count": 27,
   "metadata": {},
   "outputs": [
    {
     "name": "stdout",
     "output_type": "stream",
     "text": [
      "Best logistic regression training error: 0.117967\n",
      "Best logistic regression test error: 0.152500\n"
     ]
    }
   ],
   "source": [
    "training_error = 1. - sci_regression.score(X_train,y_train)\n",
    "test_error = 1. - sci_regression.score(X_test,y_test)\n",
    "\n",
    "print (\"Best logistic regression training error: %f\" % training_error)\n",
    "print (\"Best logistic regression test error: %f\" % test_error)"
   ]
  },
  {
   "cell_type": "markdown",
   "metadata": {},
   "source": [
    "## TO DO 9\n",
    "Compare and discuss:\n",
    "- the results from SVM with m=500 and with m=30000 training data points. If you stopped the SVM, include such aspect in your comparison.\n",
    "- the results of SVM and of Logistic Regression"
   ]
  },
  {
   "cell_type": "markdown",
   "metadata": {},
   "source": [
    "# Answer#\n",
    "**m = 30000**\n",
    "\n",
    "Best fitter:  {'C': 100, 'gamma': 0.01, 'kernel': 'rbf'} (Used that found for m=500)\n",
    "\n",
    "Best SVM training error: 0.000200\n",
    "\n",
    "Best SVM test error: 0.111800\n",
    "\n",
    "\n",
    "**m = 500**\n",
    "\n",
    "Best fitter:  {'C': 100, 'gamma': 0.01, 'kernel': 'rbf'}\n",
    "\n",
    "Best SVM training error: 0.000000\n",
    "\n",
    "Best SVM test error: 0.209076\n",
    "\n",
    "\n",
    "**Logistic**\n",
    "\n",
    "Best logistic regression training error: 0.117967\n",
    "\n",
    "Best logistic regression test error: 0.152500\n",
    "\n",
    "\n",
    "One can notice that the results for a greater m are better and try to generalize more: indeed there is a training error that there was not before. In other words, the fit with m larger help avoiding overfitting. The logistic regression has \"average\" results since try not to overfit (the training error is quite large) but it also has a quite small test error, which implies that its fit is usually better than the SVD run on m=500"
   ]
  },
  {
   "cell_type": "markdown",
   "metadata": {},
   "source": [
    "## TO DO 10\n",
    "Plot an item of clothing that is missclassified by logistic regression and correctly classified by SVM."
   ]
  },
  {
   "cell_type": "code",
   "execution_count": 33,
   "metadata": {},
   "outputs": [],
   "source": [
    "LR_prediction = sci_regression.predict(X_test)\n",
    "SVM_prediction = best_SVM.predict(X_test)"
   ]
  },
  {
   "cell_type": "code",
   "execution_count": 34,
   "metadata": {},
   "outputs": [
    {
     "name": "stdout",
     "output_type": "stream",
     "text": [
      "(30000,)\n",
      "(30000,)\n"
     ]
    }
   ],
   "source": [
    "print(LR_prediction.shape)\n",
    "print(SVM_prediction.shape)"
   ]
  },
  {
   "cell_type": "code",
   "execution_count": 36,
   "metadata": {},
   "outputs": [
    {
     "name": "stdout",
     "output_type": "stream",
     "text": [
      "1 False 6\n",
      "2 False 1\n",
      "3 False 0\n",
      "4 False 4\n",
      "5 False 1\n",
      "6 False 1\n",
      "7 False 9\n",
      "8 False 5\n",
      "9 False 0\n",
      "10 False 4\n",
      "11 False 4\n",
      "12 False 9\n",
      "13 False 0\n",
      "14 False 1\n",
      "15 False 5\n",
      "16 False 1\n",
      "17 False 8\n",
      "18 False 8\n",
      "19 True 2\n",
      "INPUT:\n"
     ]
    },
    {
     "data": {
      "image/png": "[encoded data removed]",
      "text/plain": [
       "<Figure size 432x288 with 1 Axes>"
      ]
     },
     "metadata": {},
     "output_type": "display_data"
    },
    {
     "name": "stdout",
     "output_type": "stream",
     "text": [
      "LABEL: 0\n",
      "SVM prediction:  0\n",
      "Logistic prediction:  8\n"
     ]
    }
   ],
   "source": [
    "i = 0\n",
    "found = False\n",
    "while found==False:\n",
    "    if (LR_prediction[i] != y_test[i] and (SVM_prediction[i] == y_test[i])):\n",
    "        found = True\n",
    "    i += 1\n",
    "    print(i, found, LR_prediction[i], )\n",
    "\n",
    "plot_input(X_test,y_test,i-1)\n",
    "print(\"SVM prediction: \", SVM_prediction[i-1])\n",
    "print(\"Logistic prediction: \", LR_prediction[i-1])\n",
    "\n",
    "### ADD CODE TO SEARCH AND VISUALIZE"
   ]
  },
  {
   "cell_type": "markdown",
   "metadata": {},
   "source": [
    "## TO DO 11\n",
    "Plot the confusion matrix for the SVM classifier and for logistic regression.\n",
    "The confusion matrix has one column for each predicted label and one row for each true label. \n",
    "It shows for each class in the corresponding row how many samples belonging to that class gets each possible output label.\n",
    "Notice that the diagonal contains the correctly classified samples, while the other cells correspond to errors.\n",
    "You can obtain it with the sklearn.metrics.confusion_matrix function (see the documentation).\n",
    "Try also to normalize the confusion matrix by dividing each row for the number of samples in each class in order to measure the accuracy on each single class.\n"
   ]
  },
  {
   "cell_type": "code",
   "execution_count": 49,
   "metadata": {},
   "outputs": [
    {
     "name": "stdout",
     "output_type": "stream",
     "text": [
      "Labels and frequencies in test set:  [3030 2970 3006 2980 3031 3032 3008 2963 2939 3041]\n",
      "\n",
      " Confusion matrix SVM  \n",
      " \n",
      " [[2554    2   50   74    4    1  313    0   31    1]\n",
      " [   7 2898    8   44    4    0    8    0    1    0]\n",
      " [  48    2 2516   19  220    2  191    0    8    0]\n",
      " [  95   23   41 2655   91    0   66    0    9    0]\n",
      " [   8    5  258   98 2484    0  172    0    6    0]\n",
      " [   0    0    0    0    1 2912    1   79   10   29]\n",
      " [ 379    1  261   77  186    0 2075    0   29    0]\n",
      " [   0    0    0    0    0   75    0 2784    9   95]\n",
      " [  15    1   16    6    8    8   23    3 2859    0]\n",
      " [   0    0    0    1    0   28    1   99    3 2909]]\n",
      "\n",
      " Confusion matrix LR  \n",
      " \n",
      " [[2472    8   59  161   10    5  258    0   56    1]\n",
      " [  12 2841   13   79    7    0   12    2    4    0]\n",
      " [  51    6 2283   17  398    1  227    0   22    1]\n",
      " [ 120   24   43 2594  110    4   78    0    7    0]\n",
      " [  13    7  255   93 2375    0  260    1   27    0]\n",
      " [   3    0    3    4    1 2782    5  142   30   62]\n",
      " [ 462    4  370  125  298    0 1682    1   66    0]\n",
      " [   0    0    0    0    0   96    1 2761   14   91]\n",
      " [  16    1   19   22   16   31   50   18 2764    2]\n",
      " [   0    1    0    2    0   45    2  114    6 2871]]\n",
      "\n",
      "Normalized confusion matrix for SVM  \n",
      " \n",
      " [[0.0851 0.0001 0.0017 0.0025 0.0001 0.0000 0.0104 0.0000 0.0010 0.0000]\n",
      " [0.0002 0.0966 0.0003 0.0015 0.0001 0.0000 0.0003 0.0000 0.0000 0.0000]\n",
      " [0.0016 0.0001 0.0839 0.0006 0.0073 0.0001 0.0064 0.0000 0.0003 0.0000]\n",
      " [0.0032 0.0008 0.0014 0.0885 0.0030 0.0000 0.0022 0.0000 0.0003 0.0000]\n",
      " [0.0003 0.0002 0.0086 0.0033 0.0828 0.0000 0.0057 0.0000 0.0002 0.0000]\n",
      " [0.0000 0.0000 0.0000 0.0000 0.0000 0.0971 0.0000 0.0026 0.0003 0.0010]\n",
      " [0.0126 0.0000 0.0087 0.0026 0.0062 0.0000 0.0692 0.0000 0.0010 0.0000]\n",
      " [0.0000 0.0000 0.0000 0.0000 0.0000 0.0025 0.0000 0.0928 0.0003 0.0032]\n",
      " [0.0005 0.0000 0.0005 0.0002 0.0003 0.0003 0.0008 0.0001 0.0953 0.0000]\n",
      " [0.0000 0.0000 0.0000 0.0000 0.0000 0.0009 0.0000 0.0033 0.0001 0.0970]]\n",
      "\n",
      "Normalized confusion matrix for LR  \n",
      " \n",
      " [[0.0824 0.0003 0.0020 0.0054 0.0003 0.0002 0.0086 0.0000 0.0019 0.0000]\n",
      " [0.0004 0.0947 0.0004 0.0026 0.0002 0.0000 0.0004 0.0001 0.0001 0.0000]\n",
      " [0.0017 0.0002 0.0761 0.0006 0.0133 0.0000 0.0076 0.0000 0.0007 0.0000]\n",
      " [0.0040 0.0008 0.0014 0.0865 0.0037 0.0001 0.0026 0.0000 0.0002 0.0000]\n",
      " [0.0004 0.0002 0.0085 0.0031 0.0792 0.0000 0.0087 0.0000 0.0009 0.0000]\n",
      " [0.0001 0.0000 0.0001 0.0001 0.0000 0.0927 0.0002 0.0047 0.0010 0.0021]\n",
      " [0.0154 0.0001 0.0123 0.0042 0.0099 0.0000 0.0561 0.0000 0.0022 0.0000]\n",
      " [0.0000 0.0000 0.0000 0.0000 0.0000 0.0032 0.0000 0.0920 0.0005 0.0030]\n",
      " [0.0005 0.0000 0.0006 0.0007 0.0005 0.0010 0.0017 0.0006 0.0921 0.0001]\n",
      " [0.0000 0.0000 0.0000 0.0001 0.0000 0.0015 0.0001 0.0038 0.0002 0.0957]]\n"
     ]
    }
   ],
   "source": [
    "np.set_printoptions(precision=4, suppress=True,floatmode='fixed') # for better aligned printing of confusion matrix\n",
    "\n",
    "u, counts = np.unique(y_test, return_counts=True)\n",
    "print(\"Labels and frequencies in test set: \", counts)\n",
    "\n",
    "confusion_SVM = skm.confusion_matrix(y_test, SVM_prediction)\n",
    "\n",
    "print(\"\\n Confusion matrix SVM  \\n \\n\", confusion_SVM)\n",
    "\n",
    "### ADD CODE TO NORMALIZE CONFUSION MATRIX AND PRINT THE NORMALIZED MATRIX\n",
    "\n",
    "confusion_LR = skm.confusion_matrix(y_test, LR_prediction)\n",
    "\n",
    "print(\"\\n Confusion matrix LR  \\n \\n\", confusion_LR)\n",
    "\n",
    "### ADD CODE TO NORMALIZE CONFUSION MATRIX AND PRINT THE NORMALIZED MATRIX\n",
    "\n",
    "confusion_LR = confusion_LR/ np.sum([confusion_LR[j].sum() for j in range(len(confusion_LR))])\n",
    "confusion_SVM = confusion_SVM/ np.sum([confusion_SVM[j].sum() for j in range(len(confusion_SVM))])\n",
    "\n",
    "print(\"\\nNormalized confusion matrix for SVM  \\n \\n\", confusion_SVM)\n",
    "\n",
    "print(\"\\nNormalized confusion matrix for LR  \\n \\n\", confusion_LR)"
   ]
  },
  {
   "cell_type": "markdown",
   "metadata": {},
   "source": [
    "The dataset labels are the following:\n",
    "\n",
    "| Label | Description |\n",
    "| --- | --- |\n",
    "| 0 | T-shirt/top |\n",
    "| 1 | Trouser |\n",
    "| 2 | Pullover |\n",
    "| 3 | Dress |\n",
    "| 4 | Coat |\n",
    "| 5 | Sandal |\n",
    "| 6 | Shirt |\n",
    "| 7 | Sneaker |\n",
    "| 8 | Bag |\n",
    "| 9 | Ankle boot |"
   ]
  },
  {
   "cell_type": "markdown",
   "metadata": {},
   "source": [
    "## TO DO 12\n",
    "Have a look at the confusion matrices and comment on the obtained accuracies. Why some classes have lower accuracies and others an higher one ? Make some guesses on the possible causes.\n"
   ]
  },
  {
   "cell_type": "markdown",
   "metadata": {},
   "source": [
    "Generally, one can notice that in this case the SVM paradigm classifies better than the LR one.\n",
    "\n",
    "Another thing that one can notice are the different confusions depednting on the kind of clothes: indeed the feature 2, 4 and 6 are the most missclassified and are those who are more \"confused\" with one another. This beacuse they are kind of clothes that are in fact very similar each other, leading to a missclassification also for the algorythm.\n",
    "\n",
    "Take also for example the trousers and the ankle boot: they are classes which can \"hardly\" be missclassified, so their classification (also for the algorythm) is \"easier\" and leads generally to correct labelling."
   ]
  }
 ],
 "metadata": {
  "kernelspec": {
   "display_name": "Python 3",
   "language": "python",
   "name": "python3"
  },
  "language_info": {
   "codemirror_mode": {
    "name": "ipython",
    "version": 3
   },
   "file_extension": ".py",
   "mimetype": "text/x-python",
   "name": "python",
   "nbconvert_exporter": "python",
   "pygments_lexer": "ipython3",
   "version": "3.7.3"
  }
 },
 "nbformat": 4,
 "nbformat_minor": 2
}
