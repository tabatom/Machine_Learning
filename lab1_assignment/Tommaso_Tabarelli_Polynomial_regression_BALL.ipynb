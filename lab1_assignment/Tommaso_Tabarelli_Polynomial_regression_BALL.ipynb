{
 "cells": [
  {
   "cell_type": "markdown",
   "metadata": {},
   "source": [
    "# Polynomial Regression\n",
    "\n",
    "In this exercise you need to use polynomial regression to estimate the height reached by a ball thrown into air. The motion of the ball is controlled by the motion equation with uniform acceleration (in our case given by the gravity) that is a quadratic model. You need to estimate the initial height of the ball (h), the initial speed at which it was launched (v) and the gravity acceleration (g). The equation of the motion is : $y = h + vt + \\frac{1}{2} gt^2$ .\n",
    "In the height.csv file you can find the measured height values (subject to noise) while in time.csv file you can find the corresponding time instants."
   ]
  },
  {
   "cell_type": "code",
   "execution_count": 1,
   "metadata": {},
   "outputs": [],
   "source": [
    "#import the required packages\n",
    "import matplotlib.pyplot as plt\n",
    "import csv\n",
    "from scipy import stats\n",
    "import numpy as np\n",
    "import sklearn as sl\n",
    "from sklearn import linear_model"
   ]
  },
  {
   "cell_type": "code",
   "execution_count": 2,
   "metadata": {},
   "outputs": [
    {
     "name": "stdout",
     "output_type": "stream",
     "text": [
      "(201, 1)\n",
      "(201, 1)\n"
     ]
    }
   ],
   "source": [
    "# load the data from the time.csv (features) and height.csv (measured values) files\n",
    "with open('data/time.csv', 'r') as f:\n",
    "    reader = csv.reader(f, delimiter=',')\n",
    "    # get all the rows as a list\n",
    "    x = list(reader)\n",
    "    # transform x into numpy array\n",
    "    x = np.array(x).astype(float)\n",
    "    \n",
    "with open('data/height.csv', 'r') as f2:\n",
    "    reader2 = csv.reader(f2, delimiter=',')\n",
    "    # get all the rows as a list\n",
    "    y = list(reader2)\n",
    "    # transform data into numpy array\n",
    "    y = np.array(y).astype(float)\n",
    "    \n",
    "print(x.shape)\n",
    "print(y.shape)"
   ]
  },
  {
   "cell_type": "code",
   "execution_count": 3,
   "metadata": {},
   "outputs": [
    {
     "name": "stdout",
     "output_type": "stream",
     "text": [
      "LinregressResult(slope=0.22423930932968666, intercept=4.2153751087039835, rvalue=0.08764757852933583, pvalue=nan, stderr=nan)\n",
      "slope (linregress):  [[0.22423931]]   intercept (lnregress): [4.21537511]\n",
      "correlation coefficient: 0.9923179019779441\n"
     ]
    },
    {
     "name": "stderr",
     "output_type": "stream",
     "text": [
      "/home/tommaso/anaconda3/lib/python3.6/site-packages/scipy/stats/_stats_mstats_common.py:117: RuntimeWarning: invalid value encountered in sqrt\n",
      "  t = r * np.sqrt(df / ((1.0 - r + TINY)*(1.0 + r + TINY)))\n",
      "/home/tommaso/anaconda3/lib/python3.6/site-packages/scipy/stats/_stats_mstats_common.py:119: RuntimeWarning: invalid value encountered in sqrt\n",
      "  sterrest = np.sqrt((1 - r**2) * ssym / ssxm / df)\n"
     ]
    }
   ],
   "source": [
    "# try to perform a linear interpolation (it does not work properly, why ?)\n",
    "# you can use stats.linregress or linear_model.LinearRegression\n",
    "\n",
    "x_r = x.reshape(1, 201)\n",
    "y_r = y.reshape(1, 201)\n",
    "\n",
    "linear = stats.linregress(x_r,y_r)\n",
    "\n",
    "print(linear)\n",
    "\n",
    "lin_reg = linear_model.LinearRegression()\n",
    "lin_reg.fit(x,y)\n",
    "\n",
    "slope = lin_reg.coef_\n",
    "intercept = lin_reg.intercept_\n",
    "r_value = 1-lin_reg.score(x,y)\n",
    "\n",
    "print('slope (linregress): ', slope,'  intercept (lnregress):', intercept)\n",
    "print('correlation coefficient:', r_value)"
   ]
  },
  {
   "cell_type": "code",
   "execution_count": 4,
   "metadata": {},
   "outputs": [
    {
     "name": "stdout",
     "output_type": "stream",
     "text": [
      "Coefficients of the regression:  [[ 0.         10.0243804  -4.90007055]]\n",
      "initial position:  [0.96499498]   initial speed: 10.024380403461107  gravity acceleration: -9.800141094131416\n",
      "correlation coefficient: 0.9955954856907919\n"
     ]
    }
   ],
   "source": [
    "# use polynomial regression (the feature vectors have three components:\n",
    "# they contain all 1s (for bias), the input data $x$ and their squared values $x^2$\n",
    "# for the regression you can use linear_model.LinearRegression\n",
    "\n",
    "dataX = np.zeros([201,3])\n",
    "\n",
    "for i in range(len(x)):\n",
    "    dataX[i][0] = 1\n",
    "    dataX[i][1] = x[i]\n",
    "    dataX[i][2] = x[i]**2\n",
    "    \n",
    "pol_reg = linear_model.LinearRegression()\n",
    "pol_reg.fit(dataX, y)\n",
    "\n",
    "coef_array = pol_reg.coef_\n",
    "\n",
    "print(\"Coefficients of the regression: \", coef_array)\n",
    "\n",
    "h = pol_reg.intercept_\n",
    "v = pol_reg.coef_[0][1]\n",
    "g = pol_reg.coef_[0][2]*2\n",
    "sc = pol_reg.score(dataX, y)\n",
    "\n",
    "# ADD YOUR CODE HERE\n",
    "\n",
    "print('initial position: ', h,'  initial speed:', v, ' gravity acceleration:', g )\n",
    "# reg.score produces the square of the correlation coefficient\n",
    "print('correlation coefficient:', sc)"
   ]
  },
  {
   "cell_type": "markdown",
   "metadata": {},
   "source": [
    "# Question\n",
    "\n",
    "Explain what do you conclude looking at the linear and polynomial fitting."
   ]
  },
  {
   "cell_type": "code",
   "execution_count": 5,
   "metadata": {},
   "outputs": [
    {
     "data": {
      "image/png": "[encoded data removed]",
      "text/plain": [
       "<Figure size 432x288 with 1 Axes>"
      ]
     },
     "metadata": {},
     "output_type": "display_data"
    },
    {
     "data": {
      "image/png": "[encoded data removed]",
      "text/plain": [
       "<Figure size 432x288 with 1 Axes>"
      ]
     },
     "metadata": {},
     "output_type": "display_data"
    }
   ],
   "source": [
    "# plot the input data and the estimated models\n",
    "\n",
    "plt.plot(x, y, \"bo\", label=\"Original_data\")\n",
    "plt.plot(x, intercept+slope*x, \"rx\", label=\"Linear_fit\")\n",
    "plt.legend()\n",
    "plt.show()\n",
    "\n",
    "plt.plot(x, y, \"bo\", label=\"Original_data\")\n",
    "plt.plot(x, h+v*x+0.5*g*x**2, \"ro\", label=\"Polynomial_fit\")\n",
    "plt.legend()\n",
    "plt.show()\n",
    "\n",
    "#From the plot one can see that linear regression is no very good, while the polynomial regression fits very well\n",
    "#the dataset."
   ]
  },
  {
   "cell_type": "code",
   "execution_count": null,
   "metadata": {},
   "outputs": [],
   "source": []
  }
 ],
 "metadata": {
  "kernelspec": {
   "display_name": "Python 3",
   "language": "python",
   "name": "python3"
  },
  "language_info": {
   "codemirror_mode": {
    "name": "ipython",
    "version": 3
   },
   "file_extension": ".py",
   "mimetype": "text/x-python",
   "name": "python",
   "nbconvert_exporter": "python",
   "pygments_lexer": "ipython3",
   "version": "3.6.5"
  }
 },
 "nbformat": 4,
 "nbformat_minor": 2
}
